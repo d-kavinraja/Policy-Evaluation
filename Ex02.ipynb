{
  "cells": [
    {
      "cell_type": "code",
      "execution_count": null,
      "metadata": {
        "id": "X-NPnX6RC8EL"
      },
      "outputs": [],
      "source": [
        "!pip install git+https://github.com/mimoralea/gym-walk\n"
      ]
    },
    {
      "cell_type": "code",
      "execution_count": null,
      "metadata": {
        "colab": {
          "base_uri": "https://localhost:8080/"
        },
        "id": "Xq4FC7N-DYqX",
        "outputId": "4da2f23b-a41a-4e3c-90e7-41ddb8abeaf6"
      },
      "outputs": [],
      "source": [
        "\n",
        "from typing import Any\n",
        "import warnings ; warnings.filterwarnings('ignore')\n",
        "\n",
        "import gym, gym_walk\n",
        "import numpy as np\n",
        "\n",
        "import random\n",
        "import warnings\n",
        "\n",
        "warnings.filterwarnings('ignore', category=DeprecationWarning)\n",
        "np.set_printoptions(suppress=True)\n",
        "random.seed(123); np.random.seed(123)\n",
        "\n",
        "# Reference https://github.com/mimoralea/gym-walk"
      ]
    },
    {
      "cell_type": "code",
      "execution_count": null,
      "metadata": {
        "id": "ULnSv0hyELsY"
      },
      "outputs": [],
      "source": [
        "def print_policy(pi, P, action_symbols=('<', 'v', '>', '^'), n_cols=4, title='Policy:'):\n",
        "    print(title)\n",
        "    arrs = {k:v for k,v in enumerate(action_symbols)}\n",
        "    for s in range(len(P)):\n",
        "        a = pi(s)\n",
        "        print(\"| \", end=\"\")\n",
        "        if np.all([done for action in P[s].values() for _, _, _, done in action]):\n",
        "            print(\"\".rjust(9), end=\" \")\n",
        "        else:\n",
        "            print(str(s).zfill(2), arrs[a].rjust(6), end=\" \")\n",
        "        if (s + 1) % n_cols == 0: print(\"|\")"
      ]
    },
    {
      "cell_type": "code",
      "execution_count": null,
      "metadata": {
        "id": "odrRzhpWFxY6"
      },
      "outputs": [],
      "source": [
        "def print_state_value_function(V, P, n_cols=4, prec=3, title='State-value function:'):\n",
        "    print(title)\n",
        "    for s in range(len(P)):\n",
        "        v = V[s]\n",
        "        print(\"| \", end=\"\")\n",
        "        if np.all([done for action in P[s].values() for _, _, _, done in action]):\n",
        "            print(\"\".rjust(9), end=\" \")\n",
        "        else:\n",
        "            print(str(s).zfill(2), '{}'.format(np.round(v, prec)).rjust(6), end=\" \")\n",
        "        if (s + 1) % n_cols == 0: print(\"|\")"
      ]
    },
    {
      "cell_type": "code",
      "execution_count": null,
      "metadata": {
        "id": "1TQZrao3KV4z"
      },
      "outputs": [],
      "source": [
        "def probability_success(env, pi, goal_state, n_episodes=100, max_steps=200):\n",
        "    random.seed(123); np.random.seed(123) ; env.seed(123)\n",
        "    results = []\n",
        "    for _ in range(n_episodes):\n",
        "        state, done, steps = env.reset(), False, 0\n",
        "        while not done and steps < max_steps:\n",
        "            state, _, done, h = env.step(pi(state))\n",
        "            steps += 1\n",
        "        results.append(state == goal_state)\n",
        "    return np.sum(results)/len(results)"
      ]
    },
    {
      "cell_type": "code",
      "execution_count": null,
      "metadata": {
        "id": "Jo6HA0ljKYWS"
      },
      "outputs": [],
      "source": [
        "def mean_return(env, pi, n_episodes=100, max_steps=200):\n",
        "    random.seed(123); np.random.seed(123) ; env.seed(123)\n",
        "    results = []\n",
        "    for _ in range(n_episodes):\n",
        "        state, done, steps = env.reset(), False, 0\n",
        "        results.append(0.0)\n",
        "        while not done and steps < max_steps:\n",
        "            state, reward, done, _ = env.step(pi(state))\n",
        "            results[-1] += reward\n",
        "            steps += 1\n",
        "    return np.mean(results)"
      ]
    },
    {
      "cell_type": "markdown",
      "metadata": {
        "id": "uMrHhEWREm6n"
      },
      "source": [
        "# Slippery Walk Five MDP\n",
        "\n"
      ]
    },
    {
      "cell_type": "code",
      "execution_count": null,
      "metadata": {
        "id": "iQarExmVL-oc"
      },
      "outputs": [],
      "source": [
        "env = gym.make('SlipperyWalkFive-v0')\n",
        "P = env.env.P\n",
        "init_state = env.reset()\n",
        "goal_state = 6\n",
        "LEFT, RIGHT = range(2)"
      ]
    },
    {
      "cell_type": "code",
      "execution_count": null,
      "metadata": {
        "colab": {
          "base_uri": "https://localhost:8080/"
        },
        "id": "e1g6JQTez-NO",
        "outputId": "8de1f50b-cd5e-4ccc-c946-5e9d9e5db477"
      },
      "outputs": [],
      "source": [
        "P"
      ]
    },
    {
      "cell_type": "code",
      "execution_count": null,
      "metadata": {
        "colab": {
          "base_uri": "https://localhost:8080/"
        },
        "id": "NodoNFNi4RM3",
        "outputId": "1a4347ae-345a-4a64-9818-9a5e7e7e928d"
      },
      "outputs": [],
      "source": [
        "init_state"
      ]
    },
    {
      "cell_type": "code",
      "execution_count": null,
      "metadata": {
        "colab": {
          "base_uri": "https://localhost:8080/"
        },
        "id": "LG6WyB6K4NNs",
        "outputId": "de62d1ef-549c-4c24-f6b2-2e0cc6af1782"
      },
      "outputs": [],
      "source": [
        "state, reward, done, info = env.step(RIGHT)\n",
        "print(\"state:{0} - reward:{1} - done:{2} - info:{3}\".format(state, reward, done, info))"
      ]
    },
    {
      "cell_type": "code",
      "execution_count": null,
      "metadata": {
        "colab": {
          "base_uri": "https://localhost:8080/"
        },
        "id": "xDjAg7A5EuBl",
        "outputId": "61db0081-bb25-4a9c-e09b-1e163397ab2e"
      },
      "outputs": [],
      "source": [
        "# First Policy\n",
        "pi_1 = lambda s: {\n",
        "    0:LEFT, 1:LEFT, 2:LEFT, 3:LEFT, 4:LEFT, 5:LEFT, 6:LEFT\n",
        "}[s]\n",
        "print_policy(pi_1, P, action_symbols=('<', '>'), n_cols=7)"
      ]
    },
    {
      "cell_type": "code",
      "execution_count": null,
      "metadata": {
        "colab": {
          "base_uri": "https://localhost:8080/"
        },
        "id": "K_F49FYPKSla",
        "outputId": "3eccfb52-bb18-4a5d-f935-082fe05a4daa"
      },
      "outputs": [],
      "source": [
        "# Find the probability of success and the mean return of the first policy\n",
        "print('Reaches goal {:.2f}%. Obtains an average undiscounted return of {:.4f}.'.format(\n",
        "    probability_success(env, pi_1, goal_state=goal_state)*100,\n",
        "    mean_return(env, pi_1)))"
      ]
    },
    {
      "cell_type": "code",
      "execution_count": null,
      "metadata": {
        "colab": {
          "base_uri": "https://localhost:8080/"
        },
        "id": "VxVsuhr3MKTw",
        "outputId": "a9bd15a7-7ee5-455a-cb93-315f6a0f9ff9"
      },
      "outputs": [],
      "source": [
        "# Create your own policy\n",
        "\n",
        "# Write your code here\n",
        "pi_2 = lambda s: {\n",
        "    0:RIGHT, 1:LEFT, 2:RIGHT, 3:LEFT, 4:RIGHT, 5:RIGHT, 6:RIGHT\n",
        "}[s]\n",
        "print_policy(pi_2, P, action_symbols=('<', '>'), n_cols=7)"
      ]
    },
    {
      "cell_type": "code",
      "execution_count": null,
      "metadata": {
        "colab": {
          "base_uri": "https://localhost:8080/"
        },
        "id": "cXYbVhC7Ow0Z",
        "outputId": "c95ef971-dbc1-4c33-f910-a685ba805e54"
      },
      "outputs": [],
      "source": [
        "# Find the probability of success and the mean return of you your policy\n",
        "\n",
        "#write your code here\n",
        "print('Reaches goal {:.2f}%. Obtains an average undiscounted return of {:.4f}.'.format(\n",
        "    probability_success(env, pi_2, goal_state=goal_state)*100,\n",
        "    mean_return(env, pi_2)))\n"
      ]
    },
    {
      "cell_type": "code",
      "execution_count": null,
      "metadata": {
        "id": "uGKcUp1lO5nA"
      },
      "outputs": [],
      "source": [
        "# Compare your policy with the first policy\n"
      ]
    },
    {
      "cell_type": "markdown",
      "metadata": {
        "id": "naeLUwLgFA5-"
      },
      "source": [
        "# Policy Evaluation"
      ]
    },
    {
      "cell_type": "code",
      "execution_count": null,
      "metadata": {
        "id": "Eog1Pxb4E-Kp"
      },
      "outputs": [],
      "source": [
        "from numpy.lib.function_base import copy\n",
        "def policy_evaluation(pi, P, gamma=1.0, theta=1e-10):\n",
        "    prev_V = np.zeros(len(P), dtype=np.float64)\n",
        "    # Write your code here to evaluate the given policy\n",
        "    while True:\n",
        "      V=np.zeros(len(P),dtype=np.float64)\n",
        "      for s in range(len(P)):\n",
        "        for prob, next_state, reward, done in P[s][pi(s)]:\n",
        "          V[s]+=prob*(reward+gamma+prev_V[next_state]*(not done))\n",
        "      if np.max(np.abs(prev_V-V))<theta:\n",
        "        break\n",
        "      prev_V=V.copy()\n",
        "      return V"
      ]
    },
    {
      "cell_type": "code",
      "execution_count": null,
      "metadata": {
        "colab": {
          "base_uri": "https://localhost:8080/"
        },
        "id": "XFAH8_6GFGVs",
        "outputId": "6faf4732-c979-4188-fa9c-844df1ccd964"
      },
      "outputs": [],
      "source": [
        "# Code to evaluate the first policy\n",
        "V1 = policy_evaluation(pi_1, P,gamma=0.99)\n",
        "print_state_value_function(V1, P, n_cols=7, prec=5)"
      ]
    },
    {
      "cell_type": "code",
      "execution_count": null,
      "metadata": {
        "colab": {
          "base_uri": "https://localhost:8080/"
        },
        "id": "fq6we0lWNdZF",
        "outputId": "1a86e990-7a72-4a67-eaa6-b5e0fdc729a4"
      },
      "outputs": [],
      "source": [
        "# Code to evaluate the second policy\n",
        "# Write your code here\n",
        "V2 = policy_evaluation(pi_2, P)\n",
        "print_state_value_function(V2, P, n_cols=7, prec=5)"
      ]
    },
    {
      "cell_type": "markdown",
      "metadata": {
        "id": "S0uJ2-UPQKfR"
      },
      "source": [
        "![image.png](data:image/png;base64,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)"
      ]
    },
    {
      "cell_type": "code",
      "execution_count": null,
      "metadata": {
        "id": "jFHoX5jINo_X"
      },
      "outputs": [],
      "source": [
        "# Comparing the two policies\n",
        "\n",
        "# Compare the two policies based on the value function using the above equation and find the best policy"
      ]
    },
    {
      "cell_type": "code",
      "execution_count": null,
      "metadata": {
        "colab": {
          "base_uri": "https://localhost:8080/"
        },
        "id": "KNhafiOITF8L",
        "outputId": "de25ff54-94ce-4ff5-a188-fdbbb17a1c14"
      },
      "outputs": [],
      "source": [
        "V1"
      ]
    },
    {
      "cell_type": "code",
      "execution_count": null,
      "metadata": {
        "colab": {
          "base_uri": "https://localhost:8080/"
        },
        "id": "55MWaxZyTpHD",
        "outputId": "af188201-b178-48fc-8c05-7eb92dc250f7"
      },
      "outputs": [],
      "source": [
        "print_state_value_function(V1, P, n_cols=7, prec=5)"
      ]
    },
    {
      "cell_type": "code",
      "execution_count": null,
      "metadata": {
        "colab": {
          "base_uri": "https://localhost:8080/"
        },
        "id": "SsJSnBXD7BDu",
        "outputId": "5b763348-779d-497f-d19d-f61bd0db03de"
      },
      "outputs": [],
      "source": [
        "V2"
      ]
    },
    {
      "cell_type": "code",
      "execution_count": null,
      "metadata": {
        "colab": {
          "base_uri": "https://localhost:8080/"
        },
        "id": "eurL45Yx7J2L",
        "outputId": "b1f4ba44-0b81-48f1-b4e8-f19ac583125c"
      },
      "outputs": [],
      "source": [
        "print_state_value_function(V2, P, n_cols=7, prec=5)"
      ]
    },
    {
      "cell_type": "code",
      "execution_count": null,
      "metadata": {
        "colab": {
          "base_uri": "https://localhost:8080/"
        },
        "id": "k-qRL8UeS_cl",
        "outputId": "80ea31f5-2703-48cb-af22-86588b3b8ffb"
      },
      "outputs": [],
      "source": [
        "V1>=V2"
      ]
    },
    {
      "cell_type": "code",
      "execution_count": null,
      "metadata": {
        "colab": {
          "base_uri": "https://localhost:8080/"
        },
        "id": "px8chKHYRAOQ",
        "outputId": "0c137dd4-8bcc-4740-8b1f-d25e9de4312a"
      },
      "outputs": [],
      "source": [
        "if(np.sum(V1>=V2)==7):\n",
        "  print(\"The first policy is the better policy\")\n",
        "elif(np.sum(V2>=V1)==7):\n",
        "  print(\"The second policy is the better policy\")\n",
        "else:\n",
        "  print(\"Both policies have their merits.\")"
      ]
    }
  ],
  "metadata": {
    "colab": {
      "provenance": []
    },
    "kernelspec": {
      "display_name": "Python 3",
      "name": "python3"
    },
    "language_info": {
      "codemirror_mode": {
        "name": "ipython",
        "version": 3
      },
      "file_extension": ".py",
      "mimetype": "text/x-python",
      "name": "python",
      "nbconvert_exporter": "python",
      "pygments_lexer": "ipython3",
      "version": "3.10.11"
    }
  },
  "nbformat": 4,
  "nbformat_minor": 0
}
